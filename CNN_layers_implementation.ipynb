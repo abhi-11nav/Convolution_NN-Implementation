{
  "nbformat": 4,
  "nbformat_minor": 0,
  "metadata": {
    "colab": {
      "name": "CNN layers implementation.ipynb",
      "provenance": [],
      "collapsed_sections": [],
      "mount_file_id": "16EBgUC7nyBeyR3wZOEvyYmNnUoYbjAq-",
      "authorship_tag": "ABX9TyMWhbQCTO3IyxcZzYhMde5/",
      "include_colab_link": true
    },
    "kernelspec": {
      "name": "python3",
      "display_name": "Python 3"
    },
    "language_info": {
      "name": "python"
    },
    "accelerator": "GPU",
    "gpuClass": "standard"
  },
  "cells": [
    {
      "cell_type": "markdown",
      "metadata": {
        "id": "view-in-github",
        "colab_type": "text"
      },
      "source": [
        "<a href=\"https://colab.research.google.com/github/abhi-11nav/Convolution_NN-Implementation/blob/main/CNN_layers_implementation.ipynb\" target=\"_parent\"><img src=\"https://colab.research.google.com/assets/colab-badge.svg\" alt=\"Open In Colab\"/></a>"
      ]
    },
    {
      "cell_type": "code",
      "execution_count": 1,
      "metadata": {
        "id": "UA2ho9AuWYSH"
      },
      "outputs": [],
      "source": [
        "import pandas as pd\n",
        "import numpy as np "
      ]
    },
    {
      "cell_type": "code",
      "source": [
        "# Importing libraries \n",
        "\n",
        "import tensorflow \n",
        "from tensorflow import keras\n",
        "\n",
        "from tensorflow.keras.layers import Dense, Flatten, Input, Conv2D, MaxPool2D\n",
        "from tensorflow.keras.models import Model, Sequential\n",
        "\n",
        "from tensorflow.keras.preprocessing import image\n",
        "from tensorflow.keras.preprocessing.image import ImageDataGenerator, load_img\n",
        "\n",
        "import cv2\n",
        "from google.colab.patches import cv2_imshow\n",
        "\n",
        "from glob import glob"
      ],
      "metadata": {
        "id": "KGDZ2U1EXbMU"
      },
      "execution_count": 2,
      "outputs": []
    },
    {
      "cell_type": "code",
      "source": [
        "image_size = [255,255]"
      ],
      "metadata": {
        "id": "rYuYHKr089S6"
      },
      "execution_count": 3,
      "outputs": []
    },
    {
      "cell_type": "code",
      "source": [
        "train_path = \"/content/drive/MyDrive/dataset/training_set\"\n",
        "test_path = \"/content/drive/MyDrive/dataset/test_set\""
      ],
      "metadata": {
        "id": "DV32zg-R80Px"
      },
      "execution_count": 13,
      "outputs": []
    },
    {
      "cell_type": "code",
      "source": [
        "train_datagen = ImageDataGenerator(rescale=1./255, shear_range=0.2,vertical_flip=True, horizontal_flip=True)\n",
        "\n",
        "test_datagen = ImageDataGenerator(rescale=1./255)"
      ],
      "metadata": {
        "id": "Ojq2_44u9Osm"
      },
      "execution_count": 14,
      "outputs": []
    },
    {
      "cell_type": "code",
      "source": [
        "train_data = train_datagen.flow_from_directory(train_path, target_size=image_size,batch_size=32)\n",
        "test_data= test_datagen.flow_from_directory(test_path, target_size=image_size,batch_size=32)"
      ],
      "metadata": {
        "colab": {
          "base_uri": "https://localhost:8080/"
        },
        "id": "1ZTvMI7M9Ovy",
        "outputId": "68405de8-0f9b-4a4f-d518-9378a38f5022"
      },
      "execution_count": 15,
      "outputs": [
        {
          "output_type": "stream",
          "name": "stdout",
          "text": [
            "Found 8010 images belonging to 2 classes.\n",
            "Found 1208 images belonging to 2 classes.\n"
          ]
        }
      ]
    },
    {
      "cell_type": "code",
      "source": [
        "model = keras.models.Sequential([\n",
        "Input(shape = [255,255,3]),\n",
        "Conv2D(3,3, activation=\"relu\",padding=\"same\"),\n",
        "Conv2D(3,3, activation=\"relu\", padding=\"same\"),\n",
        "MaxPool2D(pool_size=(2,2),padding=\"valid\",strides=(2,2)),\n",
        "Conv2D(5,5, activation=\"relu\", padding=\"valid\"),\n",
        "Conv2D(5,5, activation=\"relu\", padding=\"valid\"),\n",
        "MaxPool2D(pool_size=(2,2),padding=\"valid\",strides=(2,2)),\n",
        "Flatten(),\n",
        "Dense(500, activation=\"relu\"),\n",
        "Dense(2, activation=\"sigmoid\")\n",
        "])"
      ],
      "metadata": {
        "id": "q_0fxDKgbCUU"
      },
      "execution_count": 22,
      "outputs": []
    },
    {
      "cell_type": "code",
      "source": [
        "model.summary()"
      ],
      "metadata": {
        "colab": {
          "base_uri": "https://localhost:8080/"
        },
        "id": "khgwXTrPzBkr",
        "outputId": "db4fc827-e183-4d47-fbcf-1d6e2846224b"
      },
      "execution_count": 23,
      "outputs": [
        {
          "output_type": "stream",
          "name": "stdout",
          "text": [
            "Model: \"sequential_2\"\n",
            "_________________________________________________________________\n",
            " Layer (type)                Output Shape              Param #   \n",
            "=================================================================\n",
            " conv2d_8 (Conv2D)           (None, 255, 255, 3)       84        \n",
            "                                                                 \n",
            " conv2d_9 (Conv2D)           (None, 255, 255, 3)       84        \n",
            "                                                                 \n",
            " max_pooling2d_4 (MaxPooling  (None, 127, 127, 3)      0         \n",
            " 2D)                                                             \n",
            "                                                                 \n",
            " conv2d_10 (Conv2D)          (None, 123, 123, 5)       380       \n",
            "                                                                 \n",
            " conv2d_11 (Conv2D)          (None, 119, 119, 5)       630       \n",
            "                                                                 \n",
            " max_pooling2d_5 (MaxPooling  (None, 59, 59, 5)        0         \n",
            " 2D)                                                             \n",
            "                                                                 \n",
            " flatten_2 (Flatten)         (None, 17405)             0         \n",
            "                                                                 \n",
            " dense (Dense)               (None, 500)               8703000   \n",
            "                                                                 \n",
            " dense_1 (Dense)             (None, 2)                 1002      \n",
            "                                                                 \n",
            "=================================================================\n",
            "Total params: 8,705,180\n",
            "Trainable params: 8,705,180\n",
            "Non-trainable params: 0\n",
            "_________________________________________________________________\n"
          ]
        }
      ]
    },
    {
      "cell_type": "code",
      "source": [
        "model.compile(optimizer=\"sgd\", loss=\"binary_crossentropy\",metrics=[\"accuracy\"])"
      ],
      "metadata": {
        "id": "WpKPZeWwzWcI"
      },
      "execution_count": 24,
      "outputs": []
    },
    {
      "cell_type": "code",
      "source": [
        " history = model.fit(train_data, epochs=2, validation_data = test_data)"
      ],
      "metadata": {
        "colab": {
          "base_uri": "https://localhost:8080/"
        },
        "id": "PvLK9vyUzWin",
        "outputId": "db7d8158-9ac6-4e94-f5da-aa4f08e6e75f"
      },
      "execution_count": 26,
      "outputs": [
        {
          "output_type": "stream",
          "name": "stdout",
          "text": [
            "Epoch 1/2\n",
            "251/251 [==============================] - 143s 571ms/step - loss: 0.6784 - accuracy: 0.5793 - val_loss: 0.5740 - val_accuracy: 0.7889\n",
            "Epoch 2/2\n",
            "251/251 [==============================] - 139s 553ms/step - loss: 0.6691 - accuracy: 0.5900 - val_loss: 0.5590 - val_accuracy: 0.7873\n"
          ]
        }
      ]
    },
    {
      "cell_type": "markdown",
      "source": [
        ""
      ],
      "metadata": {
        "id": "JwVmwh0iAFRF"
      }
    },
    {
      "cell_type": "markdown",
      "source": [
        ""
      ],
      "metadata": {
        "id": "c7cjz12SAE_n"
      }
    },
    {
      "cell_type": "code",
      "source": [
        "import matplotlib.pyplot as plt \n",
        "\n",
        "%matplotlib inline "
      ],
      "metadata": {
        "id": "8qevFsAljC6u"
      },
      "execution_count": 28,
      "outputs": []
    },
    {
      "cell_type": "code",
      "source": [
        "plt.plot(history.history[\"accuracy\"],color=\"black\")\n",
        "\n",
        "plt.plot(history.history[\"val_accuracy\"])"
      ],
      "metadata": {
        "id": "RRwGlDpgpde6",
        "colab": {
          "base_uri": "https://localhost:8080/",
          "height": 282
        },
        "outputId": "5858fbda-75e7-449d-ab67-0a366ab0e133"
      },
      "execution_count": 31,
      "outputs": [
        {
          "output_type": "execute_result",
          "data": {
            "text/plain": [
              "[<matplotlib.lines.Line2D at 0x7f6b3e376750>]"
            ]
          },
          "metadata": {},
          "execution_count": 31
        },
        {
          "output_type": "display_data",
          "data": {
            "text/plain": [
              "<Figure size 432x288 with 1 Axes>"
            ],
            "image/png": "[encoded data removed]"
          },
          "metadata": {
            "needs_background": "light"
          }
        }
      ]
    },
    {
      "cell_type": "code",
      "source": [
        ""
      ],
      "metadata": {
        "id": "344qQ00DleyJ"
      },
      "execution_count": null,
      "outputs": []
    }
  ]
}