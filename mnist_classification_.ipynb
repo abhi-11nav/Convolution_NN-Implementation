{
  "nbformat": 4,
  "nbformat_minor": 0,
  "metadata": {
    "colab": {
      "name": "mnist_classification .ipynb",
      "provenance": [],
      "authorship_tag": "ABX9TyPnGh9HIGEhVvFJoRDjQLFx",
      "include_colab_link": true
    },
    "kernelspec": {
      "name": "python3",
      "display_name": "Python 3"
    },
    "language_info": {
      "name": "python"
    },
    "accelerator": "GPU",
    "gpuClass": "standard"
  },
  "cells": [
    {
      "cell_type": "markdown",
      "metadata": {
        "id": "view-in-github",
        "colab_type": "text"
      },
      "source": [
        "<a href=\"https://colab.research.google.com/github/abhi-11nav/Convolution_NN-Implementation/blob/main/mnist_classification_.ipynb\" target=\"_parent\"><img src=\"https://colab.research.google.com/assets/colab-badge.svg\" alt=\"Open In Colab\"/></a>"
      ]
    },
    {
      "cell_type": "code",
      "execution_count": null,
      "metadata": {
        "id": "KmxAMTjYSBUg"
      },
      "outputs": [],
      "source": [
        "# Importing pandas and numpy library\n",
        "\n",
        "import pandas as pd\n",
        "import numpy as np"
      ]
    },
    {
      "cell_type": "code",
      "source": [
        "# Chekcking for GPU type \n",
        "!nvidia-smi"
      ],
      "metadata": {
        "colab": {
          "base_uri": "https://localhost:8080/"
        },
        "id": "Wfag2iawu3zf",
        "outputId": "2d5eb6b7-ce61-4cd0-bd98-5f68bddeeeec"
      },
      "execution_count": null,
      "outputs": [
        {
          "output_type": "stream",
          "name": "stdout",
          "text": [
            "Tue Jun 21 19:44:27 2022       \n",
            "+-----------------------------------------------------------------------------+\n",
            "| NVIDIA-SMI 460.32.03    Driver Version: 460.32.03    CUDA Version: 11.2     |\n",
            "|-------------------------------+----------------------+----------------------+\n",
            "| GPU  Name        Persistence-M| Bus-Id        Disp.A | Volatile Uncorr. ECC |\n",
            "| Fan  Temp  Perf  Pwr:Usage/Cap|         Memory-Usage | GPU-Util  Compute M. |\n",
            "|                               |                      |               MIG M. |\n",
            "|===============================+======================+======================|\n",
            "|   0  Tesla T4            Off  | 00000000:00:04.0 Off |                    0 |\n",
            "| N/A   40C    P8     9W /  70W |      0MiB / 15109MiB |      0%      Default |\n",
            "|                               |                      |                  N/A |\n",
            "+-------------------------------+----------------------+----------------------+\n",
            "                                                                               \n",
            "+-----------------------------------------------------------------------------+\n",
            "| Processes:                                                                  |\n",
            "|  GPU   GI   CI        PID   Type   Process name                  GPU Memory |\n",
            "|        ID   ID                                                   Usage      |\n",
            "|=============================================================================|\n",
            "|  No running processes found                                                 |\n",
            "+-----------------------------------------------------------------------------+\n"
          ]
        }
      ]
    },
    {
      "cell_type": "markdown",
      "source": [
        ""
      ],
      "metadata": {
        "id": "YB11U5kMu3gd"
      }
    },
    {
      "cell_type": "code",
      "source": [
        "import tensorflow as tf \n",
        "from tensorflow import keras "
      ],
      "metadata": {
        "id": "FCFQumVNWNMp"
      },
      "execution_count": null,
      "outputs": []
    },
    {
      "cell_type": "code",
      "source": [
        "dataset = tf.keras.datasets.cifar10.load_data()"
      ],
      "metadata": {
        "id": "GRFLhR0HWRMk",
        "colab": {
          "base_uri": "https://localhost:8080/"
        },
        "outputId": "5c80cd1a-7a0c-471c-9c1b-ff59e85ffe05"
      },
      "execution_count": null,
      "outputs": [
        {
          "output_type": "stream",
          "name": "stdout",
          "text": [
            "Downloading data from https://www.cs.toronto.edu/~kriz/cifar-10-python.tar.gz\n",
            "170500096/170498071 [==============================] - 13s 0us/step\n",
            "170508288/170498071 [==============================] - 13s 0us/step\n"
          ]
        }
      ]
    },
    {
      "cell_type": "code",
      "source": [
        "(train_X,train_y),(test_X,test_y) = dataset"
      ],
      "metadata": {
        "id": "HgK69T27WbCH"
      },
      "execution_count": null,
      "outputs": []
    },
    {
      "cell_type": "code",
      "source": [
        "print(train_X.shape,\"\\n\",train_y.shape,\"\\n\",test_X.shape,\"\\n\",test_y.shape)"
      ],
      "metadata": {
        "colab": {
          "base_uri": "https://localhost:8080/"
        },
        "id": "3auv-FkoW_GZ",
        "outputId": "f125fd3c-495e-4680-daf8-cdc72363f670"
      },
      "execution_count": null,
      "outputs": [
        {
          "output_type": "stream",
          "name": "stdout",
          "text": [
            "(50000, 32, 32, 3) \n",
            " (50000, 1) \n",
            " (10000, 32, 32, 3) \n",
            " (10000, 1)\n"
          ]
        }
      ]
    },
    {
      "cell_type": "code",
      "source": [
        "# Importing Library for Data augmentation\n",
        "\n",
        "from tensorflow.keras.preprocessing.image import ImageDataGenerator, load_img"
      ],
      "metadata": {
        "id": "JMDFg-StYybX"
      },
      "execution_count": null,
      "outputs": []
    },
    {
      "cell_type": "code",
      "source": [
        "from tensorflow.keras.layers import Conv2D, MaxPool2D, Dense, Flatten, Dropout\n",
        "from tensorflow.keras.models import Model, Sequential"
      ],
      "metadata": {
        "id": "T55ynS-Hdtx3"
      },
      "execution_count": null,
      "outputs": []
    },
    {
      "cell_type": "code",
      "source": [
        "from functools import partial "
      ],
      "metadata": {
        "id": "NRlm7Onpz-be"
      },
      "execution_count": null,
      "outputs": []
    },
    {
      "cell_type": "code",
      "source": [
        "default_conv2d = partial(tf.keras.layers.Conv2D, kernel_size=9, activation=\"relu\", padding=\"SAME\")"
      ],
      "metadata": {
        "id": "1mFYOVbn0txc"
      },
      "execution_count": null,
      "outputs": []
    },
    {
      "cell_type": "code",
      "source": [
        "model = tf.keras.models.Sequential([\n",
        "default_conv2d(filters=64,kernel_size=7,input_shape=[32,32,3]),\n",
        "keras.layers.MaxPooling2D(pool_size=2),\n",
        "default_conv2d(filters=128),\n",
        "default_conv2d(filters=128),\n",
        "keras.layers.MaxPooling2D(pool_size=2),\n",
        "default_conv2d(filters=256),\n",
        "default_conv2d(filters=256),\n",
        "keras.layers.MaxPooling2D(pool_size=2),\n",
        "keras.layers.Flatten(),\n",
        "keras.layers.Dense(128, activation=\"relu\"),\n",
        "keras.layers.Dense(256, activation=\"relu\"),\n",
        "keras.layers.Dense(10,activation=\"softmax\")])"
      ],
      "metadata": {
        "id": "o1l9HbdavVxt"
      },
      "execution_count": null,
      "outputs": []
    },
    {
      "cell_type": "code",
      "source": [
        "model.compile(optimizer=\"adam\",loss=\"sparse_categorical_crossentropy\",metrics=[\"accuracy\"])"
      ],
      "metadata": {
        "id": "IyTxDXrRvV0g"
      },
      "execution_count": null,
      "outputs": []
    },
    {
      "cell_type": "code",
      "source": [
        "model.build(train_X.shape)"
      ],
      "metadata": {
        "id": "qhp29-UVvV3Y"
      },
      "execution_count": null,
      "outputs": []
    },
    {
      "cell_type": "code",
      "source": [
        "model.summary()"
      ],
      "metadata": {
        "colab": {
          "base_uri": "https://localhost:8080/"
        },
        "id": "go7aRzacvV6P",
        "outputId": "e484bb2e-b532-4861-d200-cee39431f77d"
      },
      "execution_count": null,
      "outputs": [
        {
          "output_type": "stream",
          "name": "stdout",
          "text": [
            "Model: \"sequential_3\"\n",
            "_________________________________________________________________\n",
            " Layer (type)                Output Shape              Param #   \n",
            "=================================================================\n",
            " conv2d_12 (Conv2D)          (None, 32, 32, 64)        9472      \n",
            "                                                                 \n",
            " max_pooling2d_7 (MaxPooling  (None, 16, 16, 64)       0         \n",
            " 2D)                                                             \n",
            "                                                                 \n",
            " conv2d_13 (Conv2D)          (None, 16, 16, 128)       663680    \n",
            "                                                                 \n",
            " conv2d_14 (Conv2D)          (None, 16, 16, 128)       1327232   \n",
            "                                                                 \n",
            " max_pooling2d_8 (MaxPooling  (None, 8, 8, 128)        0         \n",
            " 2D)                                                             \n",
            "                                                                 \n",
            " conv2d_15 (Conv2D)          (None, 8, 8, 256)         2654464   \n",
            "                                                                 \n",
            " conv2d_16 (Conv2D)          (None, 8, 8, 256)         5308672   \n",
            "                                                                 \n",
            " max_pooling2d_9 (MaxPooling  (None, 4, 4, 256)        0         \n",
            " 2D)                                                             \n",
            "                                                                 \n",
            " flatten_2 (Flatten)         (None, 4096)              0         \n",
            "                                                                 \n",
            " dense_6 (Dense)             (None, 128)               524416    \n",
            "                                                                 \n",
            " dense_7 (Dense)             (None, 256)               33024     \n",
            "                                                                 \n",
            " dense_8 (Dense)             (None, 10)                2570      \n",
            "                                                                 \n",
            "=================================================================\n",
            "Total params: 10,523,530\n",
            "Trainable params: 10,523,530\n",
            "Non-trainable params: 0\n",
            "_________________________________________________________________\n"
          ]
        }
      ]
    },
    {
      "cell_type": "code",
      "source": [
        "from sklearn.model_selection import train_test_split\n",
        "\n",
        "train_X, valid_X, train_y, valid_y = train_test_split(train_X,train_y,test_size=0.35)"
      ],
      "metadata": {
        "id": "ltYnB6yg5uMh"
      },
      "execution_count": null,
      "outputs": []
    },
    {
      "cell_type": "code",
      "source": [
        "history = model.fit(train_X,train_y,epochs=40,validation_data=[valid_X,valid_y])"
      ],
      "metadata": {
        "colab": {
          "base_uri": "https://localhost:8080/"
        },
        "id": "kyL3JtFmvV81",
        "outputId": "11e8c781-8b7b-4155-8e77-ff66102f9950"
      },
      "execution_count": null,
      "outputs": [
        {
          "output_type": "stream",
          "name": "stdout",
          "text": [
            "Epoch 1/40\n",
            "430/430 [==============================] - 13s 30ms/step - loss: 1.2271 - accuracy: 0.5630 - val_loss: 1.6359 - val_accuracy: 0.4512\n",
            "Epoch 2/40\n",
            "430/430 [==============================] - 13s 31ms/step - loss: 1.1967 - accuracy: 0.5744 - val_loss: 1.6132 - val_accuracy: 0.4697\n",
            "Epoch 3/40\n",
            "430/430 [==============================] - 13s 30ms/step - loss: 1.1484 - accuracy: 0.5928 - val_loss: 1.6412 - val_accuracy: 0.4348\n",
            "Epoch 4/40\n",
            "430/430 [==============================] - 13s 30ms/step - loss: 1.1217 - accuracy: 0.6062 - val_loss: 1.8627 - val_accuracy: 0.4291\n",
            "Epoch 5/40\n",
            "430/430 [==============================] - 13s 30ms/step - loss: 1.0842 - accuracy: 0.6201 - val_loss: 1.7777 - val_accuracy: 0.4535\n",
            "Epoch 6/40\n",
            "430/430 [==============================] - 13s 30ms/step - loss: 1.0422 - accuracy: 0.6370 - val_loss: 1.7870 - val_accuracy: 0.4624\n",
            "Epoch 7/40\n",
            "430/430 [==============================] - 13s 30ms/step - loss: 0.9422 - accuracy: 0.6748 - val_loss: 1.7302 - val_accuracy: 0.4650\n",
            "Epoch 8/40\n",
            "430/430 [==============================] - 13s 31ms/step - loss: 0.9163 - accuracy: 0.6841 - val_loss: 1.8480 - val_accuracy: 0.4629\n",
            "Epoch 9/40\n",
            "430/430 [==============================] - 13s 30ms/step - loss: 0.8528 - accuracy: 0.7132 - val_loss: 1.9774 - val_accuracy: 0.4667\n",
            "Epoch 10/40\n",
            "430/430 [==============================] - 13s 31ms/step - loss: 0.7243 - accuracy: 0.7566 - val_loss: 1.9562 - val_accuracy: 0.4666\n",
            "Epoch 11/40\n",
            "430/430 [==============================] - 13s 31ms/step - loss: 0.7021 - accuracy: 0.7699 - val_loss: 2.0963 - val_accuracy: 0.4617\n",
            "Epoch 12/40\n",
            "430/430 [==============================] - 13s 29ms/step - loss: 0.6042 - accuracy: 0.8002 - val_loss: 2.2022 - val_accuracy: 0.4757\n",
            "Epoch 13/40\n",
            "430/430 [==============================] - 13s 30ms/step - loss: 0.5536 - accuracy: 0.8206 - val_loss: 2.3473 - val_accuracy: 0.4513\n",
            "Epoch 14/40\n",
            "430/430 [==============================] - 13s 30ms/step - loss: 0.6172 - accuracy: 0.7998 - val_loss: 2.5803 - val_accuracy: 0.4501\n",
            "Epoch 15/40\n",
            "430/430 [==============================] - 13s 30ms/step - loss: 0.4965 - accuracy: 0.8442 - val_loss: 2.2906 - val_accuracy: 0.4506\n",
            "Epoch 16/40\n",
            "430/430 [==============================] - 13s 30ms/step - loss: 0.4385 - accuracy: 0.8629 - val_loss: 2.5621 - val_accuracy: 0.4667\n",
            "Epoch 17/40\n",
            "430/430 [==============================] - 13s 30ms/step - loss: 0.4195 - accuracy: 0.8680 - val_loss: 2.5561 - val_accuracy: 0.4685\n",
            "Epoch 18/40\n",
            "430/430 [==============================] - 13s 31ms/step - loss: 0.4129 - accuracy: 0.8758 - val_loss: 2.9424 - val_accuracy: 0.4163\n",
            "Epoch 19/40\n",
            "430/430 [==============================] - 13s 30ms/step - loss: 0.4302 - accuracy: 0.8702 - val_loss: 2.7208 - val_accuracy: 0.4636\n",
            "Epoch 20/40\n",
            "430/430 [==============================] - 13s 31ms/step - loss: 0.3872 - accuracy: 0.8862 - val_loss: 2.9445 - val_accuracy: 0.4725\n",
            "Epoch 21/40\n",
            "430/430 [==============================] - 13s 31ms/step - loss: 0.3407 - accuracy: 0.9005 - val_loss: 2.8681 - val_accuracy: 0.4723\n",
            "Epoch 22/40\n",
            "430/430 [==============================] - 13s 30ms/step - loss: 0.2591 - accuracy: 0.9239 - val_loss: 3.3410 - val_accuracy: 0.4608\n",
            "Epoch 23/40\n",
            "430/430 [==============================] - 13s 30ms/step - loss: 0.2656 - accuracy: 0.9241 - val_loss: 3.1889 - val_accuracy: 0.4620\n",
            "Epoch 24/40\n",
            "430/430 [==============================] - 13s 31ms/step - loss: 0.3338 - accuracy: 0.9101 - val_loss: 3.0495 - val_accuracy: 0.4717\n",
            "Epoch 25/40\n",
            "430/430 [==============================] - 13s 30ms/step - loss: 0.2686 - accuracy: 0.9295 - val_loss: 3.5419 - val_accuracy: 0.4681\n",
            "Epoch 26/40\n",
            "430/430 [==============================] - 13s 31ms/step - loss: 0.2582 - accuracy: 0.9269 - val_loss: 3.1060 - val_accuracy: 0.4769\n",
            "Epoch 27/40\n",
            "430/430 [==============================] - 13s 31ms/step - loss: 0.3018 - accuracy: 0.9190 - val_loss: 3.2933 - val_accuracy: 0.4758\n",
            "Epoch 28/40\n",
            "430/430 [==============================] - 13s 30ms/step - loss: 0.2546 - accuracy: 0.9350 - val_loss: 3.2494 - val_accuracy: 0.4620\n",
            "Epoch 29/40\n",
            "430/430 [==============================] - 13s 29ms/step - loss: 0.2515 - accuracy: 0.9307 - val_loss: 3.0774 - val_accuracy: 0.4719\n",
            "Epoch 30/40\n",
            "430/430 [==============================] - 12s 29ms/step - loss: 0.3067 - accuracy: 0.9257 - val_loss: 2.6416 - val_accuracy: 0.4294\n",
            "Epoch 31/40\n",
            "430/430 [==============================] - 13s 31ms/step - loss: 0.2552 - accuracy: 0.9380 - val_loss: 3.4858 - val_accuracy: 0.4711\n",
            "Epoch 32/40\n",
            "430/430 [==============================] - 13s 29ms/step - loss: 0.2741 - accuracy: 0.9290 - val_loss: 3.0737 - val_accuracy: 0.4720\n",
            "Epoch 33/40\n",
            "430/430 [==============================] - 12s 29ms/step - loss: 0.2602 - accuracy: 0.9353 - val_loss: 3.0099 - val_accuracy: 0.4840\n",
            "Epoch 34/40\n",
            "430/430 [==============================] - 13s 31ms/step - loss: 0.1785 - accuracy: 0.9554 - val_loss: 3.3856 - val_accuracy: 0.4551\n",
            "Epoch 35/40\n",
            "430/430 [==============================] - 12s 29ms/step - loss: 0.2535 - accuracy: 0.9377 - val_loss: 3.1621 - val_accuracy: 0.4306\n",
            "Epoch 36/40\n",
            "430/430 [==============================] - 13s 31ms/step - loss: 0.2842 - accuracy: 0.9286 - val_loss: 3.3168 - val_accuracy: 0.4662\n",
            "Epoch 37/40\n",
            "430/430 [==============================] - 13s 29ms/step - loss: 0.4345 - accuracy: 0.8973 - val_loss: 3.2323 - val_accuracy: 0.4743\n",
            "Epoch 38/40\n",
            "430/430 [==============================] - 13s 29ms/step - loss: 0.2101 - accuracy: 0.9518 - val_loss: 2.7899 - val_accuracy: 0.4736\n",
            "Epoch 39/40\n",
            "430/430 [==============================] - 13s 29ms/step - loss: 0.1959 - accuracy: 0.9546 - val_loss: 3.4817 - val_accuracy: 0.4597\n",
            "Epoch 40/40\n",
            "430/430 [==============================] - 13s 29ms/step - loss: 0.2877 - accuracy: 0.9326 - val_loss: 3.0322 - val_accuracy: 0.4625\n"
          ]
        }
      ]
    },
    {
      "cell_type": "code",
      "source": [
        "import matplotlib.pyplot as plt"
      ],
      "metadata": {
        "id": "36IPhhZvodPc"
      },
      "execution_count": null,
      "outputs": []
    },
    {
      "cell_type": "code",
      "source": [
        "plt.plot(history.history['accuracy'], label = \"accuracy\")\n",
        "plt.plot(history.history['val_accuracy'], label=\"val_accuracy\")\n",
        "plt.legend()"
      ],
      "metadata": {
        "colab": {
          "base_uri": "https://localhost:8080/",
          "height": 282
        },
        "id": "OF2s5qou0x7h",
        "outputId": "558d4da5-7c89-4b42-ce61-82040b918e83"
      },
      "execution_count": null,
      "outputs": [
        {
          "output_type": "execute_result",
          "data": {
            "text/plain": [
              "<matplotlib.legend.Legend at 0x7fec171f9cd0>"
            ]
          },
          "metadata": {},
          "execution_count": 50
        },
        {
          "output_type": "display_data",
          "data": {
            "text/plain": [
              "<Figure size 432x288 with 1 Axes>"
            ],
            "image/png": "[encoded data removed]"
          },
          "metadata": {
            "needs_background": "light"
          }
        }
      ]
    },
    {
      "cell_type": "code",
      "source": [
        "plt.plot(history.history['loss'], label = \"loss\")\n",
        "plt.plot(history.history['val_loss'], label=\"val_loss\")\n",
        "plt.legend()"
      ],
      "metadata": {
        "colab": {
          "base_uri": "https://localhost:8080/",
          "height": 282
        },
        "id": "Z7ewSpVB11iY",
        "outputId": "8b587d81-3ef2-4b8a-aeb9-a0f1df45ea39"
      },
      "execution_count": null,
      "outputs": [
        {
          "output_type": "execute_result",
          "data": {
            "text/plain": [
              "<matplotlib.legend.Legend at 0x7fec1678db10>"
            ]
          },
          "metadata": {},
          "execution_count": 51
        },
        {
          "output_type": "display_data",
          "data": {
            "text/plain": [
              "<Figure size 432x288 with 1 Axes>"
            ],
            "image/png": "[encoded data removed]"
          },
          "metadata": {
            "needs_background": "light"
          }
        }
      ]
    },
    {
      "cell_type": "code",
      "source": [
        "model.evaluate([test_X,test_y])"
      ],
      "metadata": {
        "id": "5jcv6dyr2CXX",
        "colab": {
          "base_uri": "https://localhost:8080/",
          "height": 579
        },
        "outputId": "509988c4-8790-4095-9d7f-7272a57ccafa"
      },
      "execution_count": null,
      "outputs": [
        {
          "output_type": "error",
          "ename": "ValueError",
          "evalue": "ignored",
          "traceback": [
            "\u001b[0;31m---------------------------------------------------------------------------\u001b[0m",
            "\u001b[0;31mValueError\u001b[0m                                Traceback (most recent call last)",
            "\u001b[0;32m<ipython-input-53-ff8719f342f6>\u001b[0m in \u001b[0;36m<module>\u001b[0;34m()\u001b[0m\n\u001b[0;32m----> 1\u001b[0;31m \u001b[0mmodel\u001b[0m\u001b[0;34m.\u001b[0m\u001b[0mevaluate\u001b[0m\u001b[0;34m(\u001b[0m\u001b[0;34m[\u001b[0m\u001b[0mtest_X\u001b[0m\u001b[0;34m,\u001b[0m\u001b[0mtest_y\u001b[0m\u001b[0;34m]\u001b[0m\u001b[0;34m)\u001b[0m\u001b[0;34m\u001b[0m\u001b[0;34m\u001b[0m\u001b[0m\n\u001b[0m",
            "\u001b[0;32m/usr/local/lib/python3.7/dist-packages/keras/utils/traceback_utils.py\u001b[0m in \u001b[0;36merror_handler\u001b[0;34m(*args, **kwargs)\u001b[0m\n\u001b[1;32m     65\u001b[0m     \u001b[0;32mexcept\u001b[0m \u001b[0mException\u001b[0m \u001b[0;32mas\u001b[0m \u001b[0me\u001b[0m\u001b[0;34m:\u001b[0m  \u001b[0;31m# pylint: disable=broad-except\u001b[0m\u001b[0;34m\u001b[0m\u001b[0;34m\u001b[0m\u001b[0m\n\u001b[1;32m     66\u001b[0m       \u001b[0mfiltered_tb\u001b[0m \u001b[0;34m=\u001b[0m \u001b[0m_process_traceback_frames\u001b[0m\u001b[0;34m(\u001b[0m\u001b[0me\u001b[0m\u001b[0;34m.\u001b[0m\u001b[0m__traceback__\u001b[0m\u001b[0;34m)\u001b[0m\u001b[0;34m\u001b[0m\u001b[0;34m\u001b[0m\u001b[0m\n\u001b[0;32m---> 67\u001b[0;31m       \u001b[0;32mraise\u001b[0m \u001b[0me\u001b[0m\u001b[0;34m.\u001b[0m\u001b[0mwith_traceback\u001b[0m\u001b[0;34m(\u001b[0m\u001b[0mfiltered_tb\u001b[0m\u001b[0;34m)\u001b[0m \u001b[0;32mfrom\u001b[0m \u001b[0;32mNone\u001b[0m\u001b[0;34m\u001b[0m\u001b[0;34m\u001b[0m\u001b[0m\n\u001b[0m\u001b[1;32m     68\u001b[0m     \u001b[0;32mfinally\u001b[0m\u001b[0;34m:\u001b[0m\u001b[0;34m\u001b[0m\u001b[0;34m\u001b[0m\u001b[0m\n\u001b[1;32m     69\u001b[0m       \u001b[0;32mdel\u001b[0m \u001b[0mfiltered_tb\u001b[0m\u001b[0;34m\u001b[0m\u001b[0;34m\u001b[0m\u001b[0m\n",
            "\u001b[0;32m/usr/local/lib/python3.7/dist-packages/tensorflow/python/framework/func_graph.py\u001b[0m in \u001b[0;36mautograph_handler\u001b[0;34m(*args, **kwargs)\u001b[0m\n\u001b[1;32m   1145\u001b[0m           \u001b[0;32mexcept\u001b[0m \u001b[0mException\u001b[0m \u001b[0;32mas\u001b[0m \u001b[0me\u001b[0m\u001b[0;34m:\u001b[0m  \u001b[0;31m# pylint:disable=broad-except\u001b[0m\u001b[0;34m\u001b[0m\u001b[0;34m\u001b[0m\u001b[0m\n\u001b[1;32m   1146\u001b[0m             \u001b[0;32mif\u001b[0m \u001b[0mhasattr\u001b[0m\u001b[0;34m(\u001b[0m\u001b[0me\u001b[0m\u001b[0;34m,\u001b[0m \u001b[0;34m\"ag_error_metadata\"\u001b[0m\u001b[0;34m)\u001b[0m\u001b[0;34m:\u001b[0m\u001b[0;34m\u001b[0m\u001b[0;34m\u001b[0m\u001b[0m\n\u001b[0;32m-> 1147\u001b[0;31m               \u001b[0;32mraise\u001b[0m \u001b[0me\u001b[0m\u001b[0;34m.\u001b[0m\u001b[0mag_error_metadata\u001b[0m\u001b[0;34m.\u001b[0m\u001b[0mto_exception\u001b[0m\u001b[0;34m(\u001b[0m\u001b[0me\u001b[0m\u001b[0;34m)\u001b[0m\u001b[0;34m\u001b[0m\u001b[0;34m\u001b[0m\u001b[0m\n\u001b[0m\u001b[1;32m   1148\u001b[0m             \u001b[0;32melse\u001b[0m\u001b[0;34m:\u001b[0m\u001b[0;34m\u001b[0m\u001b[0;34m\u001b[0m\u001b[0m\n\u001b[1;32m   1149\u001b[0m               \u001b[0;32mraise\u001b[0m\u001b[0;34m\u001b[0m\u001b[0;34m\u001b[0m\u001b[0m\n",
            "\u001b[0;31mValueError\u001b[0m: in user code:\n\n    File \"/usr/local/lib/python3.7/dist-packages/keras/engine/training.py\", line 1525, in test_function  *\n        return step_function(self, iterator)\n    File \"/usr/local/lib/python3.7/dist-packages/keras/engine/training.py\", line 1514, in step_function  **\n        outputs = model.distribute_strategy.run(run_step, args=(data,))\n    File \"/usr/local/lib/python3.7/dist-packages/keras/engine/training.py\", line 1507, in run_step  **\n        outputs = model.test_step(data)\n    File \"/usr/local/lib/python3.7/dist-packages/keras/engine/training.py\", line 1471, in test_step\n        y_pred = self(x, training=False)\n    File \"/usr/local/lib/python3.7/dist-packages/keras/utils/traceback_utils.py\", line 67, in error_handler\n        raise e.with_traceback(filtered_tb) from None\n    File \"/usr/local/lib/python3.7/dist-packages/keras/engine/input_spec.py\", line 200, in assert_input_compatibility\n        raise ValueError(f'Layer \"{layer_name}\" expects {len(input_spec)} input(s),'\n\n    ValueError: Layer \"sequential_3\" expects 1 input(s), but it received 2 input tensors. Inputs received: [<tf.Tensor 'IteratorGetNext:0' shape=(None, 32, 32, 3) dtype=uint8>, <tf.Tensor 'IteratorGetNext:1' shape=(None, 1) dtype=uint8>]\n"
          ]
        }
      ]
    },
    {
      "cell_type": "code",
      "source": [
        ""
      ],
      "metadata": {
        "id": "DCExVOzUBYRE"
      },
      "execution_count": null,
      "outputs": []
    }
  ]
}